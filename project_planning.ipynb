{
 "cells": [
  {
   "cell_type": "markdown",
   "id": "e3522ff4-d233-443a-a10d-6fd39956ffae",
   "metadata": {},
   "source": [
    "# Predicting High-Usage Players on the Minecraft Server\n"
   ]
  },
  {
   "cell_type": "code",
   "execution_count": 8,
   "id": "7043e2e4-093d-41f8-b799-9d99220e5d13",
   "metadata": {},
   "outputs": [
    {
     "name": "stderr",
     "output_type": "stream",
     "text": [
      "\u001b[1mRows: \u001b[22m\u001b[34m196\u001b[39m \u001b[1mColumns: \u001b[22m\u001b[34m7\u001b[39m\n",
      "\u001b[36m──\u001b[39m \u001b[1mColumn specification\u001b[22m \u001b[36m────────────────────────────────────────────────────────\u001b[39m\n",
      "\u001b[1mDelimiter:\u001b[22m \",\"\n",
      "\u001b[31mchr\u001b[39m (4): experience, hashedEmail, name, gender\n",
      "\u001b[32mdbl\u001b[39m (2): played_hours, Age\n",
      "\u001b[33mlgl\u001b[39m (1): subscribe\n",
      "\n",
      "\u001b[36mℹ\u001b[39m Use `spec()` to retrieve the full column specification for this data.\n",
      "\u001b[36mℹ\u001b[39m Specify the column types or set `show_col_types = FALSE` to quiet this message.\n",
      "\u001b[1mRows: \u001b[22m\u001b[34m1535\u001b[39m \u001b[1mColumns: \u001b[22m\u001b[34m5\u001b[39m\n",
      "\u001b[36m──\u001b[39m \u001b[1mColumn specification\u001b[22m \u001b[36m────────────────────────────────────────────────────────\u001b[39m\n",
      "\u001b[1mDelimiter:\u001b[22m \",\"\n",
      "\u001b[31mchr\u001b[39m (3): hashedEmail, start_time, end_time\n",
      "\u001b[32mdbl\u001b[39m (2): original_start_time, original_end_time\n",
      "\n",
      "\u001b[36mℹ\u001b[39m Use `spec()` to retrieve the full column specification for this data.\n",
      "\u001b[36mℹ\u001b[39m Specify the column types or set `show_col_types = FALSE` to quiet this message.\n"
     ]
    }
   ],
   "source": [
    "library(tidyverse)\n",
    "players <- read_csv(\"players.csv\")\n",
    "sessions <- read_csv(\"sessions.csv\")"
   ]
  },
  {
   "cell_type": "markdown",
   "id": "feed9898-ddc0-4671-8236-498018d211ea",
   "metadata": {},
   "source": [
    "## 1. Data Description"
   ]
  },
  {
   "cell_type": "markdown",
   "id": "7e5a107f-88b7-4bd7-a1c0-97f0e19700b2",
   "metadata": {},
   "source": [
    "## 2. Questions"
   ]
  },
  {
   "cell_type": "markdown",
   "id": "fe6aed42-7e06-4df9-8915-83a2d0a51c5d",
   "metadata": {},
   "source": [
    "## 3. Exploratory Data Analysis & Visualization"
   ]
  },
  {
   "cell_type": "markdown",
   "id": "6737888d-ed27-4c20-a0c2-1772c88ebb1e",
   "metadata": {},
   "source": [
    "## 4. Methods and Plan"
   ]
  },
  {
   "cell_type": "markdown",
   "id": "95c6cc67-94e7-4ec9-bd6a-8c299368d2d6",
   "metadata": {},
   "source": [
    "## 5. GitHub Repository"
   ]
  }
 ],
 "metadata": {
  "kernelspec": {
   "display_name": "R",
   "language": "R",
   "name": "ir"
  },
  "language_info": {
   "codemirror_mode": "r",
   "file_extension": ".r",
   "mimetype": "text/x-r-source",
   "name": "R",
   "pygments_lexer": "r",
   "version": "4.3.3"
  }
 },
 "nbformat": 4,
 "nbformat_minor": 5
}
